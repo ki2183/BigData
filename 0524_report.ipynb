{
 "cells": [
  {
   "cell_type": "code",
   "execution_count": 1,
   "id": "42ee4f4a-8717-4b24-93fb-5fcf529d5112",
   "metadata": {},
   "outputs": [],
   "source": [
    "from pyspark.sql import SparkSession\n",
    "spark = SparkSession.builder.master('local').appName('trip_data').getOrCreate()"
   ]
  },
  {
   "cell_type": "code",
   "execution_count": 20,
   "id": "525f44e7-21d3-41f6-9351-a696fabbb2a3",
   "metadata": {},
   "outputs": [],
   "source": [
    "data=[\n",
    "    ('안현', 20),\n",
    "    ('가영', 21),\n",
    "    ('진수', 22),\n",
    "    ('시은', 23),\n",
    "    ('찬호', 24),\n",
    "    ('지현', 25),\n",
    "    ('영희', 26),\n",
    "    ('철수', 27),\n",
    "    ('은지', 50),\n",
    "    ('영진', 29),\n",
    "    ('안현', 30),\n",
    "    ('가영', 31),\n",
    "    ('민수', 32),\n",
    "    ('지은', 70),\n",
    "    ('준호', 80)\n",
    "]"
   ]
  },
  {
   "cell_type": "code",
   "execution_count": 21,
   "id": "8e9f0fea-38ca-4a0b-ba63-a55f2f5019f7",
   "metadata": {},
   "outputs": [],
   "source": [
    "schema = ['name','age']"
   ]
  },
  {
   "cell_type": "code",
   "execution_count": 22,
   "id": "6294e9ee-cd7b-4cad-91f1-6c1326f35598",
   "metadata": {},
   "outputs": [],
   "source": [
    "df = spark.createDataFrame(data , schema)"
   ]
  },
  {
   "cell_type": "code",
   "execution_count": 23,
   "id": "210ba005-205a-43fa-b580-1a56d3950779",
   "metadata": {},
   "outputs": [],
   "source": [
    "df.createOrReplaceTempView('data')"
   ]
  },
  {
   "cell_type": "code",
   "execution_count": 24,
   "id": "caea2fdd-5792-4ae5-9e0b-dfa4e30aa846",
   "metadata": {},
   "outputs": [
    {
     "name": "stdout",
     "output_type": "stream",
     "text": [
      "+----+---+\n",
      "|name|age|\n",
      "+----+---+\n",
      "|안현| 20|\n",
      "|가영| 21|\n",
      "|진수| 22|\n",
      "|시은| 23|\n",
      "|찬호| 24|\n",
      "|지현| 25|\n",
      "|영희| 26|\n",
      "|철수| 27|\n",
      "|은지| 50|\n",
      "|영진| 29|\n",
      "|안현| 30|\n",
      "|가영| 31|\n",
      "|민수| 32|\n",
      "|지은| 70|\n",
      "|준호| 80|\n",
      "+----+---+\n",
      "\n"
     ]
    }
   ],
   "source": [
    "df.show()"
   ]
  },
  {
   "cell_type": "code",
   "execution_count": 25,
   "id": "92dcae9e-818a-487b-a815-6db7772dd613",
   "metadata": {},
   "outputs": [],
   "source": [
    "def age_category(name):\n",
    "    result = spark.sql(\"SELECT * FROM data WHERE name='\" + name + \"'\").collect()\n",
    "\n",
    "    age = int(result[0][\"age\"])\n",
    "    \n",
    "    if age < 35:\n",
    "        return \"young\"\n",
    "    elif 35 <= age < 60:\n",
    "        return \"adult\"\n",
    "    elif age > 69:\n",
    "        return \"senior\"\n",
    "    else:\n",
    "        return \"마이너스 아이디는 없읍니다\"\n",
    "    "
   ]
  },
  {
   "cell_type": "markdown",
   "id": "07d6bc66-4a1e-4cb3-b392-ef6ee8db4e88",
   "metadata": {},
   "source": [
    "spark.sql(\"SELECT * FROM data WHERE age>30 \").show()"
   ]
  },
  {
   "cell_type": "code",
   "execution_count": 26,
   "id": "a6c992cd-a89e-493c-952f-8595cafb2fea",
   "metadata": {},
   "outputs": [
    {
     "data": {
      "text/plain": [
       "'young'"
      ]
     },
     "execution_count": 26,
     "metadata": {},
     "output_type": "execute_result"
    }
   ],
   "source": [
    "age_category(\"민수\")"
   ]
  },
  {
   "cell_type": "code",
   "execution_count": 27,
   "id": "d9e8f593-386f-4238-95f5-da58b905f46e",
   "metadata": {},
   "outputs": [
    {
     "data": {
      "text/plain": [
       "'adult'"
      ]
     },
     "execution_count": 27,
     "metadata": {},
     "output_type": "execute_result"
    }
   ],
   "source": [
    "age_category(\"은지\")"
   ]
  },
  {
   "cell_type": "code",
   "execution_count": 28,
   "id": "9ddc6f77-8a09-4e28-9f9d-1a88d48b9538",
   "metadata": {},
   "outputs": [
    {
     "data": {
      "text/plain": [
       "'senior'"
      ]
     },
     "execution_count": 28,
     "metadata": {},
     "output_type": "execute_result"
    }
   ],
   "source": [
    "age_category(\"지은\")"
   ]
  }
 ],
 "metadata": {
  "kernelspec": {
   "display_name": "Python 3 (ipykernel)",
   "language": "python",
   "name": "python3"
  },
  "language_info": {
   "codemirror_mode": {
    "name": "ipython",
    "version": 3
   },
   "file_extension": ".py",
   "mimetype": "text/x-python",
   "name": "python",
   "nbconvert_exporter": "python",
   "pygments_lexer": "ipython3",
   "version": "3.9.13"
  }
 },
 "nbformat": 4,
 "nbformat_minor": 5
}
