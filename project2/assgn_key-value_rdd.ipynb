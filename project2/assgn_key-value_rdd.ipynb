{
 "cells": [
  {
   "cell_type": "markdown",
   "metadata": {},
   "source": [
    "## 과제: Key-Value RDD를 이용한 황순원의 '소나기'의 단어별 빈도 세기\n",
    "+ [+]에 해당되는 코드를 완성할 것"
   ]
  },
  {
   "cell_type": "markdown",
   "metadata": {},
   "source": [
    "### 1. Spark 애플리케이션 시작"
   ]
  },
  {
   "cell_type": "code",
   "execution_count": 1,
   "metadata": {},
   "outputs": [],
   "source": [
    "# [+] SparkConf, SparkContext 임포트\n",
    "from pyspark import SparkConf, SparkContext\n",
    "import pandas as pd"
   ]
  },
  {
   "cell_type": "code",
   "execution_count": 2,
   "metadata": {},
   "outputs": [],
   "source": [
    "# [+] SparkConf, SparkContext 생성\n",
    "conf = SparkConf().setMaster(\"local\").setAppName(\"SONAGI-RDD\")\n",
    "sc = SparkContext(conf=conf) "
   ]
  },
  {
   "cell_type": "markdown",
   "metadata": {},
   "source": [
    "### 2. 황순원의 소나기 원문(.txt) 불러오기"
   ]
  },
  {
   "cell_type": "code",
   "execution_count": 3,
   "metadata": {},
   "outputs": [],
   "source": [
    "# 파일 이름과 경로\n",
    "path = './data/'\n",
    "filename = 'rainshower.txt'"
   ]
  },
  {
   "cell_type": "code",
   "execution_count": 4,
   "metadata": {},
   "outputs": [],
   "source": [
    "# [+] textFile()을 이용하여 원문(.txt)을 읽어 RDD 객체로 생성하기\n",
    "lines = sc.textFile(\"./data/\"+filename)"
   ]
  },
  {
   "cell_type": "code",
   "execution_count": 6,
   "metadata": {},
   "outputs": [],
   "source": [
    "# [+] take()을 이용하여 RDD 객체의 값 100개(= 100 줄) 출력\n",
    "#lines.take(100)"
   ]
  },
  {
   "cell_type": "markdown",
   "metadata": {},
   "source": [
    "### 3. (단어, 1) 형태의 Key-Value RDD 생성하기"
   ]
  },
  {
   "cell_type": "code",
   "execution_count": 9,
   "metadata": {},
   "outputs": [],
   "source": [
    "# [+] flatMap()를 이용하여 각 문장들을 단어 단위로 분리 및 저장\n",
    "words = lines.flatMap(lambda x:x.split(' '))"
   ]
  },
  {
   "cell_type": "code",
   "execution_count": 15,
   "metadata": {},
   "outputs": [],
   "source": [
    "# [+] words 객체의 값 100개 출력\n",
    "#words.take(100)"
   ]
  },
  {
   "cell_type": "code",
   "execution_count": 12,
   "metadata": {},
   "outputs": [],
   "source": [
    "# [+] map()을 이용하여 (단어, 1) 형태의 Key-Value RDD로 변환\n",
    "word_pairs = words.map(lambda x:(x,1))"
   ]
  },
  {
   "cell_type": "code",
   "execution_count": 14,
   "metadata": {},
   "outputs": [],
   "source": [
    "# [+] word_pairs 객체의 값 100개 출력\n",
    "#word_pairs.take(100)"
   ]
  },
  {
   "cell_type": "markdown",
   "metadata": {},
   "source": [
    "### 4. 단어별 빈도 세기 및 결과 출력"
   ]
  },
  {
   "cell_type": "code",
   "execution_count": 23,
   "metadata": {},
   "outputs": [],
   "source": [
    "# [+] reduceByKey()를 이용하여 단어별 빈도 세기\n",
    "word_counts = word_pairs.reduceByKey(lambda a, b: a+b)"
   ]
  },
  {
   "cell_type": "code",
   "execution_count": 24,
   "metadata": {},
   "outputs": [],
   "source": [
    "# sortBy()를 이용하여 빈도(x[1])를 기준으로 내림차순 정렬\n",
    "sorted_word_counts = word_counts.sortBy(lambda x: x[1], ascending=False)"
   ]
  },
  {
   "cell_type": "code",
   "execution_count": 25,
   "metadata": {},
   "outputs": [],
   "source": [
    "# [+] collect()를 이용하여 정렬된 단어별 빈도를 list 객체로 출력\n",
    "res = sorted_word_counts.collect()"
   ]
  },
  {
   "cell_type": "code",
   "execution_count": 26,
   "metadata": {},
   "outputs": [
    {
     "data": {
      "text/plain": [
       "[('소년은', 29),\n",
       " ('소녀가', 29),\n",
       " ('있었다.', 24),\n",
       " ('한', 20),\n",
       " ('소녀의', 15),\n",
       " ('소년이', 12),\n",
       " ('소녀는', 11),\n",
       " ('그', 11),\n",
       " ('있는', 10),\n",
       " ('했다.', 9),\n",
       " ('이', 8),\n",
       " ('그러나,', 8),\n",
       " ('않았다.', 8),\n",
       " ('앉아', 7),\n",
       " ('물', 7),\n",
       " ('안고', 7),\n",
       " ('소년의', 7),\n",
       " ('수', 6),\n",
       " ('있다.', 6),\n",
       " ('뵈지', 6),\n",
       " ('전에', 6),\n",
       " ('하는', 6),\n",
       " ('더', 6),\n",
       " ('가', 6),\n",
       " ('날', 6),\n",
       " ('걸', 5),\n",
       " ('손을', 5),\n",
       " ('하고', 5),\n",
       " ('좀', 5),\n",
       " ('개울가로', 5),\n",
       " ('나왔다.', 5),\n",
       " ('속을', 5),\n",
       " ('가을', 5),\n",
       " ('저', 5),\n",
       " ('것이었다.', 5),\n",
       " ('번', 5),\n",
       " ('이게', 5),\n",
       " ('윤', 4),\n",
       " ('그냥', 4),\n",
       " ('저도', 4),\n",
       " ('모르게', 4),\n",
       " ('같았다.', 4),\n",
       " ('보았다.', 4),\n",
       " ('몇', 4),\n",
       " ('시작했다.', 4),\n",
       " ('소리가', 4),\n",
       " ('못', 4),\n",
       " ('무슨', 4),\n",
       " ('같은', 4),\n",
       " ('우리', 4),\n",
       " ('많이', 4),\n",
       " ('게', 4),\n",
       " ('소녀를', 3),\n",
       " ('물장난을', 3),\n",
       " ('것이다.', 3),\n",
       " ('이런', 3),\n",
       " ('며칠째', 3),\n",
       " ('학교에서', 3),\n",
       " ('돌아오는', 3),\n",
       " ('그런데,', 3),\n",
       " ('오늘은', 3),\n",
       " ('징검다리', 3),\n",
       " ('개울둑에', 3),\n",
       " ('길을', 3),\n",
       " ('다음', 3),\n",
       " ('날은', 3),\n",
       " ('세수를', 3),\n",
       " ('분홍', 3),\n",
       " ('스웨터', 3),\n",
       " ('이번에는', 3),\n",
       " ('낸다.', 3),\n",
       " ('그대로', 3),\n",
       " ('자꾸', 3),\n",
       " ('그러다가', 3),\n",
       " ('하나', 3),\n",
       " ('그리고는', 3),\n",
       " ('일어나', 3),\n",
       " ('징검다리를', 3),\n",
       " ('뛰어', 3),\n",
       " ('다', 3),\n",
       " ('생각됐다.', 3),\n",
       " ('쪽', 3),\n",
       " ('갈꽃이', 3),\n",
       " ('소녀', 3),\n",
       " ('것만', 3),\n",
       " ('서', 3),\n",
       " ('조약돌을', 3),\n",
       " ('주머니', 3),\n",
       " ('속', 3),\n",
       " ('날,', 3),\n",
       " ('속에', 3),\n",
       " ('얼굴이', 3),\n",
       " ('두', 3),\n",
       " ('달렸다.', 3),\n",
       " ('없이', 3),\n",
       " ('것', 3),\n",
       " ('왔다.', 3),\n",
       " ('허수아비가', 3),\n",
       " ('집으로', 3),\n",
       " ('생각이', 3)]"
      ]
     },
     "execution_count": 26,
     "metadata": {},
     "output_type": "execute_result"
    }
   ],
   "source": [
    "# 상위 100개의 단어 및 빈도 출력\n",
    "res[:100]"
   ]
  }
 ],
 "metadata": {
  "kernelspec": {
   "display_name": "Python 3 (ipykernel)",
   "language": "python",
   "name": "python3"
  },
  "language_info": {
   "codemirror_mode": {
    "name": "ipython",
    "version": 3
   },
   "file_extension": ".py",
   "mimetype": "text/x-python",
   "name": "python",
   "nbconvert_exporter": "python",
   "pygments_lexer": "ipython3",
   "version": "3.9.13"
  }
 },
 "nbformat": 4,
 "nbformat_minor": 4
}
